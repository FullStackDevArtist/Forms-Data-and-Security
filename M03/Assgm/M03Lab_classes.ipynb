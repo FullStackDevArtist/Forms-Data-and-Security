{
 "cells": [
  {
   "cell_type": "code",
   "execution_count": 10,
   "id": "923c1817",
   "metadata": {},
   "outputs": [
    {
     "name": "stdout",
     "output_type": "stream",
     "text": [
      "Vehicle Type: CAr\n",
      "Year: 2002\n",
      "Make: Nissian\n",
      "Model: Kicks\n",
      "Doors: 4\n",
      "Roof: solid\n"
     ]
    }
   ],
   "source": [
    "#Super class\n",
    "class Vehicle:\n",
    "    def __init__ (self,vehicle_type):\n",
    "        self.vehicle_type=vehicle_type\n",
    "#child class of vehicle\n",
    "class Automobile(Vehicle):\n",
    "    def __init__ (self,vehicle_type,year,make,model,doors,roof):\n",
    "        super().__init__(vehicle_type)\n",
    "        self.year = year\n",
    "        self.make = make\n",
    "        self.model = model\n",
    "        self.doors = doors\n",
    "        self.roof = roof\n",
    "\n",
    "#displays info\n",
    "    def info(self): \n",
    "      print(self.vehicle_type)  \n",
    "      print(self.year)\n",
    "      print(self.make)\n",
    "      print(self.model)\n",
    "      print(self.doors)\n",
    "      print(self.roof)\n",
    "\n",
    "#ask for user inputs\n",
    "vehicle_type = input(\"Enter the vehicle type: \")\n",
    "year = input(\"Enter the year of vehicle: \")\n",
    "make = input(\"Enter the make of vehicle: \")\n",
    "model = input(\"Enter the model of vehicle: \")\n",
    "doors = input(\"Enter the number of doors (2 or 4): \")\n",
    "roof = input(\"Enter the type of sunroof (soild or sunroof): \")\n",
    "\n",
    "#instance for automobile\n",
    "car = Automobile (\"car\", year,make,model,doors,roof)\n",
    "\n",
    "#calls the info method\n",
    "print(\"Vehicle Type:\", vehicle_type)\n",
    "print(\"Year:\", year)\n",
    "print(\"Make:\", make)\n",
    "print(\"Model:\", model)\n",
    "print(\"Doors:\", doors)\n",
    "print(\"Roof:\", roof)\n",
    "\n"
   ]
  }
 ],
 "metadata": {
  "kernelspec": {
   "display_name": "Python 3",
   "language": "python",
   "name": "python3"
  },
  "language_info": {
   "codemirror_mode": {
    "name": "ipython",
    "version": 3
   },
   "file_extension": ".py",
   "mimetype": "text/x-python",
   "name": "python",
   "nbconvert_exporter": "python",
   "pygments_lexer": "ipython3",
   "version": "3.13.3"
  }
 },
 "nbformat": 4,
 "nbformat_minor": 5
}
