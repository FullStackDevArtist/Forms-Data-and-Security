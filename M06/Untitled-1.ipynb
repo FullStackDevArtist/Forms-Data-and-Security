{
 "cells": [
  {
   "cell_type": "code",
   "execution_count": null,
   "id": "9e64ff4f",
   "metadata": {},
   "outputs": [],
   "source": [
    "from multiprocessing import Process\n",
    "from time import sleep\n",
    "from datetime import datetime\n",
    "import random\n",
    "\n",
    "def task():\n",
    "    sleep(random.uniform(0, 1))\n",
    "    print(\"Time:\", datetime.now().time())\n",
    "\n",
    "# Create and start processes\n",
    "if __name__ == \"__main__\":\n",
    "    for _ in range(3):\n",
    "        Process(target=task).start()\n"
   ]
  },
  {
   "cell_type": "code",
   "execution_count": null,
   "id": "dd9a28b8",
   "metadata": {},
   "outputs": [],
   "source": []
  }
 ],
 "metadata": {
  "kernelspec": {
   "display_name": "Python 3",
   "language": "python",
   "name": "python3"
  },
  "language_info": {
   "name": "python",
   "version": "3.13.3"
  }
 },
 "nbformat": 4,
 "nbformat_minor": 5
}
